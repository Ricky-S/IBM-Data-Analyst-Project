{
 "cells": [
  {
   "cell_type": "markdown",
   "id": "33af73cc-af82-4102-bf2c-0fdf9de26960",
   "metadata": {},
   "source": [
    "<p style=\"text-align:center\">\n",
    "    <a href=\"https://skills.network\" target=\"_blank\">\n",
    "    <img src=\"https://cf-courses-data.s3.us.cloud-object-storage.appdomain.cloud/assets/logos/SN_web_lightmode.png\" width=\"200\" alt=\"Skills Network Logo\"  />\n",
    "    </a>\n",
    "</p>\n"
   ]
  },
  {
   "cell_type": "markdown",
   "id": "57777cb2-541c-49fb-910f-34aa4e87fbd4",
   "metadata": {},
   "source": [
    "# **Impute Missing Values**\n"
   ]
  },
  {
   "cell_type": "markdown",
   "id": "633791bf-1db5-458e-ae37-dc160ef4664f",
   "metadata": {},
   "source": [
    "Estimated time needed: **45** minutes\n"
   ]
  },
  {
   "cell_type": "markdown",
   "id": "8de86d24-c071-4142-a1cd-710d1409f3b5",
   "metadata": {},
   "source": [
    "In this lab, you will practice essential data wrangling techniques using the Stack Overflow survey dataset. The primary focus is on handling missing data and ensuring data quality. You will:\n",
    "\n",
    "- **Load the Data:** Import the dataset into a DataFrame using the pandas library.\n",
    "\n",
    "- **Clean the Data:** Identify and remove duplicate entries to maintain data integrity.\n",
    "\n",
    "- **Handle Missing Values:** Detect missing values, impute them with appropriate strategies, and verify the imputation to create a complete and reliable dataset for analysis.\n",
    "\n",
    "This lab equips you with the skills to effectively preprocess and clean real-world datasets, a crucial step in any data analysis project.\n"
   ]
  },
  {
   "cell_type": "markdown",
   "id": "757fc280-8e6b-4b52-88fb-a206c2cd9953",
   "metadata": {},
   "source": [
    "## Objectives\n"
   ]
  },
  {
   "cell_type": "markdown",
   "id": "80e8df19-3d4d-4c76-979f-28718523d34c",
   "metadata": {},
   "source": [
    "In this lab, you will perform the following:\n"
   ]
  },
  {
   "cell_type": "markdown",
   "id": "ebc8bdc3-ab57-49b3-ae60-fa217cc871dc",
   "metadata": {},
   "source": [
    "-   Identify missing values in the dataset.\n",
    "\n",
    "-   Apply techniques to impute missing values in the dataset.\n",
    "  \n",
    "-   Use suitable techniques to normalize data in the dataset.\n"
   ]
  },
  {
   "cell_type": "markdown",
   "id": "4f64bbaf-e569-4672-a0e5-3049066d529d",
   "metadata": {},
   "source": [
    "-----\n"
   ]
  },
  {
   "cell_type": "markdown",
   "id": "af50d0ca-e10c-4f2c-b4e1-22e21816f1cb",
   "metadata": {},
   "source": [
    "#### Install needed library\n"
   ]
  },
  {
   "cell_type": "code",
   "execution_count": null,
   "id": "dc2f2d04-dba7-4faa-b466-ffe32d2b7fe3",
   "metadata": {},
   "outputs": [],
   "source": [
    "!pip install pandas"
   ]
  },
  {
   "cell_type": "markdown",
   "id": "995b90bc-fdbc-450a-896f-6c7b1c84350a",
   "metadata": {},
   "source": [
    "### Step 1: Import Required Libraries\n"
   ]
  },
  {
   "cell_type": "code",
   "execution_count": 1,
   "id": "6b17e6b8-a70a-4358-83c2-ecbd1b06673b",
   "metadata": {},
   "outputs": [],
   "source": [
    "import pandas as pd"
   ]
  },
  {
   "cell_type": "markdown",
   "id": "0fc25f20-5008-41f0-b024-746f7a5c2d3b",
   "metadata": {},
   "source": [
    "### Step 2: Load the dataset into a dataframe.\n"
   ]
  },
  {
   "cell_type": "markdown",
   "id": "2de7da98-de86-4df2-a0c4-3b821a72a702",
   "metadata": {},
   "source": [
    "#### **Read Data**\n",
    "<p>\n",
    "The functions below will download the dataset into your browser:\n",
    "</p>\n"
   ]
  },
  {
   "cell_type": "code",
   "execution_count": 5,
   "id": "46088cf6-19d5-414c-a6d2-e0ad7961ffa1",
   "metadata": {},
   "outputs": [
    {
     "name": "stdout",
     "output_type": "stream",
     "text": [
      "(65437, 114)\n"
     ]
    }
   ],
   "source": [
    "file_path = \"https://cf-courses-data.s3.us.cloud-object-storage.appdomain.cloud/n01PQ9pSmiRX6520flujwQ/survey-data.csv\"\n",
    "df = pd.read_csv(file_path)\n",
    "\n",
    "# Display the first few rows to ensure it loaded correctly\n",
    "print(df.shape)"
   ]
  },
  {
   "cell_type": "markdown",
   "id": "2c980875-f16d-4c3c-9cc2-b0ab1bc53d55",
   "metadata": {},
   "source": [
    "### Step 3. Finding and Removing Duplicates\n",
    "##### Task 1: Identify duplicate rows in the dataset.\n"
   ]
  },
  {
   "cell_type": "code",
   "execution_count": 3,
   "id": "b9631dea-e9db-4fa0-93da-6f978057f868",
   "metadata": {},
   "outputs": [
    {
     "name": "stdout",
     "output_type": "stream",
     "text": [
      "Duplicate rows in the dataset:\n",
      "Empty DataFrame\n",
      "Columns: [ResponseId, MainBranch, Age, Employment, RemoteWork, Check, CodingActivities, EdLevel, LearnCode, LearnCodeOnline, TechDoc, YearsCode, YearsCodePro, DevType, OrgSize, PurchaseInfluence, BuyNewTool, BuildvsBuy, TechEndorse, Country, Currency, CompTotal, LanguageHaveWorkedWith, LanguageWantToWorkWith, LanguageAdmired, DatabaseHaveWorkedWith, DatabaseWantToWorkWith, DatabaseAdmired, PlatformHaveWorkedWith, PlatformWantToWorkWith, PlatformAdmired, WebframeHaveWorkedWith, WebframeWantToWorkWith, WebframeAdmired, EmbeddedHaveWorkedWith, EmbeddedWantToWorkWith, EmbeddedAdmired, MiscTechHaveWorkedWith, MiscTechWantToWorkWith, MiscTechAdmired, ToolsTechHaveWorkedWith, ToolsTechWantToWorkWith, ToolsTechAdmired, NEWCollabToolsHaveWorkedWith, NEWCollabToolsWantToWorkWith, NEWCollabToolsAdmired, OpSysPersonal use, OpSysProfessional use, OfficeStackAsyncHaveWorkedWith, OfficeStackAsyncWantToWorkWith, OfficeStackAsyncAdmired, OfficeStackSyncHaveWorkedWith, OfficeStackSyncWantToWorkWith, OfficeStackSyncAdmired, AISearchDevHaveWorkedWith, AISearchDevWantToWorkWith, AISearchDevAdmired, NEWSOSites, SOVisitFreq, SOAccount, SOPartFreq, SOHow, SOComm, AISelect, AISent, AIBen, AIAcc, AIComplex, AIToolCurrently Using, AIToolInterested in Using, AIToolNot interested in Using, AINextMuch more integrated, AINextNo change, AINextMore integrated, AINextLess integrated, AINextMuch less integrated, AIThreat, AIEthics, AIChallenges, TBranch, ICorPM, WorkExp, Knowledge_1, Knowledge_2, Knowledge_3, Knowledge_4, Knowledge_5, Knowledge_6, Knowledge_7, Knowledge_8, Knowledge_9, Frequency_1, Frequency_2, Frequency_3, TimeSearching, TimeAnswering, Frustration, ProfessionalTech, ProfessionalCloud, ProfessionalQuestion, ...]\n",
      "Index: []\n",
      "\n",
      "[0 rows x 114 columns]\n"
     ]
    }
   ],
   "source": [
    "## Write your code here\n",
    "# Identify duplicate rows in the DataFrame\n",
    "duplicate_rows = df[df.duplicated()]\n",
    "\n",
    "# Display duplicate rows\n",
    "print(\"Duplicate rows in the dataset:\")\n",
    "print(duplicate_rows)"
   ]
  },
  {
   "cell_type": "markdown",
   "id": "9ffbb754-3ef3-4e30-959b-2191841f2eca",
   "metadata": {},
   "source": [
    "##### Task 2: Remove the duplicate rows from the dataframe.\n",
    "\n"
   ]
  },
  {
   "cell_type": "code",
   "execution_count": 4,
   "id": "1820842b-cb2e-48b5-9510-a0a1b8fcaffa",
   "metadata": {},
   "outputs": [
    {
     "name": "stdout",
     "output_type": "stream",
     "text": [
      "DataFrame after removing duplicate rows:\n",
      "       ResponseId                      MainBranch                 Age  \\\n",
      "0               1  I am a developer by profession  Under 18 years old   \n",
      "1               2  I am a developer by profession     35-44 years old   \n",
      "2               3  I am a developer by profession     45-54 years old   \n",
      "3               4           I am learning to code     18-24 years old   \n",
      "4               5  I am a developer by profession     18-24 years old   \n",
      "...           ...                             ...                 ...   \n",
      "65432       65433  I am a developer by profession     18-24 years old   \n",
      "65433       65434  I am a developer by profession     25-34 years old   \n",
      "65434       65435  I am a developer by profession     25-34 years old   \n",
      "65435       65436  I am a developer by profession     18-24 years old   \n",
      "65436       65437     I code primarily as a hobby     18-24 years old   \n",
      "\n",
      "                Employment                            RemoteWork   Check  \\\n",
      "0      Employed, full-time                                Remote  Apples   \n",
      "1      Employed, full-time                                Remote  Apples   \n",
      "2      Employed, full-time                                Remote  Apples   \n",
      "3       Student, full-time                                   NaN  Apples   \n",
      "4       Student, full-time                                   NaN  Apples   \n",
      "...                    ...                                   ...     ...   \n",
      "65432  Employed, full-time                                Remote  Apples   \n",
      "65433  Employed, full-time                                Remote  Apples   \n",
      "65434  Employed, full-time                             In-person  Apples   \n",
      "65435  Employed, full-time  Hybrid (some remote, some in-person)  Apples   \n",
      "65436   Student, full-time                                   NaN  Apples   \n",
      "\n",
      "                                        CodingActivities  \\\n",
      "0                                                  Hobby   \n",
      "1      Hobby;Contribute to open-source projects;Other...   \n",
      "2      Hobby;Contribute to open-source projects;Other...   \n",
      "3                                                    NaN   \n",
      "4                                                    NaN   \n",
      "...                                                  ...   \n",
      "65432                      Hobby;School or academic work   \n",
      "65433           Hobby;Contribute to open-source projects   \n",
      "65434                                              Hobby   \n",
      "65435  Hobby;Contribute to open-source projects;Profe...   \n",
      "65436                                                NaN   \n",
      "\n",
      "                                                 EdLevel  \\\n",
      "0                              Primary/elementary school   \n",
      "1           Bachelor’s degree (B.A., B.S., B.Eng., etc.)   \n",
      "2        Master’s degree (M.A., M.S., M.Eng., MBA, etc.)   \n",
      "3      Some college/university study without earning ...   \n",
      "4      Secondary school (e.g. American high school, G...   \n",
      "...                                                  ...   \n",
      "65432       Bachelor’s degree (B.A., B.S., B.Eng., etc.)   \n",
      "65433                                                NaN   \n",
      "65434       Bachelor’s degree (B.A., B.S., B.Eng., etc.)   \n",
      "65435  Secondary school (e.g. American high school, G...   \n",
      "65436                                                NaN   \n",
      "\n",
      "                                               LearnCode  \\\n",
      "0                                 Books / Physical media   \n",
      "1      Books / Physical media;Colleague;On the job tr...   \n",
      "2      Books / Physical media;Colleague;On the job tr...   \n",
      "3      Other online resources (e.g., videos, blogs, f...   \n",
      "4      Other online resources (e.g., videos, blogs, f...   \n",
      "...                                                  ...   \n",
      "65432  On the job training;School (i.e., University, ...   \n",
      "65433                                                NaN   \n",
      "65434  Other online resources (e.g., videos, blogs, f...   \n",
      "65435  On the job training;Other online resources (e....   \n",
      "65436                                                NaN   \n",
      "\n",
      "                                         LearnCodeOnline  ... JobSatPoints_6  \\\n",
      "0                                                    NaN  ...            NaN   \n",
      "1      Technical documentation;Blogs;Books;Written Tu...  ...            0.0   \n",
      "2      Technical documentation;Blogs;Books;Written Tu...  ...            NaN   \n",
      "3      Stack Overflow;How-to videos;Interactive tutorial  ...            NaN   \n",
      "4      Technical documentation;Blogs;Written Tutorial...  ...            NaN   \n",
      "...                                                  ...  ...            ...   \n",
      "65432                                                NaN  ...            NaN   \n",
      "65433                                                NaN  ...            NaN   \n",
      "65434  Technical documentation;Stack Overflow;Social ...  ...            NaN   \n",
      "65435  Technical documentation;Blogs;Written Tutorial...  ...            0.0   \n",
      "65436                                                NaN  ...            NaN   \n",
      "\n",
      "      JobSatPoints_7 JobSatPoints_8 JobSatPoints_9 JobSatPoints_10  \\\n",
      "0                NaN            NaN            NaN             NaN   \n",
      "1                0.0            0.0            0.0             0.0   \n",
      "2                NaN            NaN            NaN             NaN   \n",
      "3                NaN            NaN            NaN             NaN   \n",
      "4                NaN            NaN            NaN             NaN   \n",
      "...              ...            ...            ...             ...   \n",
      "65432            NaN            NaN            NaN             NaN   \n",
      "65433            NaN            NaN            NaN             NaN   \n",
      "65434            NaN            NaN            NaN             NaN   \n",
      "65435            0.0            0.0            0.0             0.0   \n",
      "65436            NaN            NaN            NaN             NaN   \n",
      "\n",
      "      JobSatPoints_11           SurveyLength SurveyEase ConvertedCompYearly  \\\n",
      "0                 NaN                    NaN        NaN                 NaN   \n",
      "1                 0.0                    NaN        NaN                 NaN   \n",
      "2                 NaN  Appropriate in length       Easy                 NaN   \n",
      "3                 NaN               Too long       Easy                 NaN   \n",
      "4                 NaN              Too short       Easy                 NaN   \n",
      "...               ...                    ...        ...                 ...   \n",
      "65432             NaN                    NaN        NaN                 NaN   \n",
      "65433             NaN                    NaN        NaN                 NaN   \n",
      "65434             NaN                    NaN        NaN                 NaN   \n",
      "65435             0.0                    NaN        NaN                 NaN   \n",
      "65436             NaN                    NaN        NaN                 NaN   \n",
      "\n",
      "      JobSat  \n",
      "0        NaN  \n",
      "1        NaN  \n",
      "2        NaN  \n",
      "3        NaN  \n",
      "4        NaN  \n",
      "...      ...  \n",
      "65432    NaN  \n",
      "65433    NaN  \n",
      "65434    NaN  \n",
      "65435    NaN  \n",
      "65436    NaN  \n",
      "\n",
      "[65437 rows x 114 columns]\n"
     ]
    }
   ],
   "source": [
    "## Write your code here\n",
    "# Remove duplicate rows from the DataFrame\n",
    "df = df.drop_duplicates()\n",
    "\n",
    "# Display the updated DataFrame to confirm duplicates are removed\n",
    "print(\"DataFrame after removing duplicate rows:\")\n",
    "print(df)"
   ]
  },
  {
   "cell_type": "markdown",
   "id": "3b3a0e3e-eb43-48c2-9306-67e3d425313d",
   "metadata": {},
   "source": [
    "### Step 4: Finding Missing Values\n",
    "##### Task 3: Find the missing values for all columns.\n"
   ]
  },
  {
   "cell_type": "code",
   "execution_count": 6,
   "id": "02921708-4e48-4981-a759-3841908825bd",
   "metadata": {},
   "outputs": [
    {
     "name": "stdout",
     "output_type": "stream",
     "text": [
      "Missing values for each column:\n",
      " ResponseId                 0\n",
      "MainBranch                 0\n",
      "Age                        0\n",
      "Employment                 0\n",
      "RemoteWork             10631\n",
      "                       ...  \n",
      "JobSatPoints_11        35992\n",
      "SurveyLength            9255\n",
      "SurveyEase              9199\n",
      "ConvertedCompYearly    42002\n",
      "JobSat                 36311\n",
      "Length: 114, dtype: int64\n"
     ]
    }
   ],
   "source": [
    "## Write your code here\n",
    "# Count missing values in each column\n",
    "missing_values = df.isnull().sum()\n",
    "\n",
    "# Display missing values for each column\n",
    "print(\"Missing values for each column:\\n\", missing_values)"
   ]
  },
  {
   "cell_type": "markdown",
   "id": "8361852a-988d-45f0-8e80-2f7244d621c1",
   "metadata": {},
   "source": [
    "##### Task 4: Find out how many rows are missing in the column RemoteWork.\n"
   ]
  },
  {
   "cell_type": "code",
   "execution_count": 7,
   "id": "a32309dc-edca-4a69-ad54-c8890fbf797a",
   "metadata": {},
   "outputs": [
    {
     "name": "stdout",
     "output_type": "stream",
     "text": [
      "Number of missing values in 'RemoteWork': 10631\n"
     ]
    }
   ],
   "source": [
    "## Write your code here\n",
    "# Count missing values in the 'RemoteWork' column\n",
    "missing_remote_work = df['RemoteWork'].isnull().sum()\n",
    "\n",
    "# Display the count of missing values\n",
    "print(\"Number of missing values in 'RemoteWork':\", missing_remote_work)"
   ]
  },
  {
   "cell_type": "markdown",
   "id": "7462cc76-4f27-4b40-98b6-7b588eaf44b2",
   "metadata": {},
   "source": [
    "### Step 5. Imputing Missing Values\n",
    "##### Task 5: Find the value counts for the column RemoteWork.\n"
   ]
  },
  {
   "cell_type": "code",
   "execution_count": 8,
   "id": "93dc5a89-9307-4319-aa53-a06fef2fdf8a",
   "metadata": {},
   "outputs": [
    {
     "name": "stdout",
     "output_type": "stream",
     "text": [
      "Value counts for 'RemoteWork':\n",
      " RemoteWork\n",
      "Hybrid (some remote, some in-person)    23015\n",
      "Remote                                  20831\n",
      "In-person                               10960\n",
      "Name: count, dtype: int64\n"
     ]
    }
   ],
   "source": [
    "## Write your code here\n",
    "\n",
    "# Get the value counts for the 'RemoteWork' column\n",
    "remote_work_counts = df['RemoteWork'].value_counts()\n",
    "\n",
    "# Display the value counts\n",
    "print(\"Value counts for 'RemoteWork':\\n\", remote_work_counts)\n"
   ]
  },
  {
   "cell_type": "markdown",
   "id": "db9e6bba-4bbe-4537-a792-5dacf964c0e2",
   "metadata": {},
   "source": [
    "##### Task 6: Identify the most frequent (majority) value in the RemoteWork column.\n",
    "\n"
   ]
  },
  {
   "cell_type": "code",
   "execution_count": null,
   "id": "5a55024e-944d-499e-9252-77281f747843",
   "metadata": {},
   "outputs": [
    {
     "name": "stdout",
     "output_type": "stream",
     "text": [
      "Most frequent value in 'RemoteWork': 0    Hybrid (some remote, some in-person)\n",
      "Name: RemoteWork, dtype: object\n"
     ]
    }
   ],
   "source": [
    "## Write your code here\n",
    "most_frequent_remote_work = df['RemoteWork'].mode()\n",
    "print(\"Most frequent value in 'RemoteWork':\", most_frequent_remote_work)"
   ]
  },
  {
   "cell_type": "markdown",
   "id": "63f7cdb0-a7d5-45f5-99af-17325e7ae536",
   "metadata": {},
   "source": [
    "##### Task 7: Impute (replace) all the empty rows in the column RemoteWork with the majority value.\n",
    "\n"
   ]
  },
  {
   "cell_type": "code",
   "execution_count": 15,
   "id": "5a77e003-2edb-4662-ae56-fa02267f1318",
   "metadata": {},
   "outputs": [
    {
     "name": "stdout",
     "output_type": "stream",
     "text": [
      "Number of missing rows in 'RemoteWork': 10631\n",
      "Number of missing rows in 'RemoteWork' after imputation: 0\n"
     ]
    }
   ],
   "source": [
    "## Write your code here\n",
    "\n",
    "# Count the number of missing values in 'RemoteWork'\n",
    "missing_remote_work = df['RemoteWork'].isnull().sum()\n",
    "print(\"Number of missing rows in 'RemoteWork':\", missing_remote_work)\n",
    "\n",
    "# Find the most frequent (majority) value in 'RemoteWork'\n",
    "most_frequent_remote_work = df['RemoteWork'].mode()[0]\n",
    "\n",
    "# Replace missing values in 'RemoteWork' with the majority value\n",
    "df['RemoteWork'].fillna(most_frequent_remote_work, inplace=True)\n",
    "\n",
    "# Verify that there are no more missing values\n",
    "missing_after_imputation = df['RemoteWork'].isnull().sum()\n",
    "print(\"Number of missing rows in 'RemoteWork' after imputation:\", missing_after_imputation)\n"
   ]
  },
  {
   "cell_type": "markdown",
   "id": "a8b93bb2-ffcc-41fc-9119-de6ee2a01c59",
   "metadata": {},
   "source": [
    "##### Task 8: Check for any compensation-related columns and describe their distribution.\n",
    "\n"
   ]
  },
  {
   "cell_type": "code",
   "execution_count": 16,
   "id": "b9dac156-67e1-4083-9351-691c7b7e7279",
   "metadata": {},
   "outputs": [
    {
     "name": "stdout",
     "output_type": "stream",
     "text": [
      "Compensation-related columns: []\n"
     ]
    }
   ],
   "source": [
    "## Write your code here\n",
    "# Identify columns with keywords related to compensation\n",
    "compensation_columns = [col for col in df.columns if 'compensation' in col.lower() or 'salary' in col.lower() or 'pay' in col.lower()]\n",
    "\n",
    "# Display identified columns\n",
    "print(\"Compensation-related columns:\", compensation_columns)\n"
   ]
  },
  {
   "cell_type": "markdown",
   "id": "33d57c07-4e5c-48af-8043-3ed10a4788a6",
   "metadata": {},
   "source": [
    "### Summary \n"
   ]
  },
  {
   "cell_type": "markdown",
   "id": "b4c2e938-df8c-498c-b7d7-4250159fe2d8",
   "metadata": {},
   "source": [
    "**In this lab, you focused on imputing missing values in the dataset.**\n",
    "\n",
    "- Use the <code>pandas.read_csv()</code> function to load a dataset from a CSV file into a DataFrame.\n",
    "\n",
    "- Download the dataset if it's not available online and specify the correct file path.\n",
    "\n"
   ]
  },
  {
   "cell_type": "markdown",
   "id": "9a9d3540-f6d9-4de6-8c4a-e3f8bf28b406",
   "metadata": {},
   "source": [
    "<!--\n",
    "## Change Log\n",
    "|Date (YYYY-MM-DD)|Version|Changed By|Change Description|\n",
    "|-|-|-|-|\n",
    "|2024-11-05|1.3|Madhusudhan Moole|Updated lab|\n",
    "|2024-10-29|1.2|Madhusudhan Moole|Updated lab|\n",
    "|2024-09-27|1.1|Madhusudhan Moole|Updated lab|\n",
    "|2024-09-26|1.0|Raghul Ramesh|Created lab|\n",
    "--!>\n"
   ]
  },
  {
   "cell_type": "markdown",
   "id": "dc9627f4-a748-4297-a33c-757ad9ea2c21",
   "metadata": {},
   "source": [
    "## <h3 align=\"center\"> © IBM Corporation. All rights reserved. <h3/>\n"
   ]
  }
 ],
 "metadata": {
  "kernelspec": {
   "display_name": "ibm310",
   "language": "python",
   "name": "python3"
  },
  "language_info": {
   "codemirror_mode": {
    "name": "ipython",
    "version": 3
   },
   "file_extension": ".py",
   "mimetype": "text/x-python",
   "name": "python",
   "nbconvert_exporter": "python",
   "pygments_lexer": "ipython3",
   "version": "3.10.14"
  },
  "prev_pub_hash": "20ac35e9fe3acad245bfd319d99388779c5cb4b84e0a9688bcdc9003ec6c2f2e"
 },
 "nbformat": 4,
 "nbformat_minor": 4
}
