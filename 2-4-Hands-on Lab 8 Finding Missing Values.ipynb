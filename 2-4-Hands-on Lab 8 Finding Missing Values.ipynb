{
 "cells": [
  {
   "cell_type": "markdown",
   "metadata": {},
   "source": [
    "<p style=\"text-align:center\">\n",
    "    <a href=\"https://skills.network\" target=\"_blank\">\n",
    "    <img src=\"https://cf-courses-data.s3.us.cloud-object-storage.appdomain.cloud/assets/logos/SN_web_lightmode.png\" width=\"200\" alt=\"Skills Network Logo\"  />\n",
    "    </a>\n",
    "</p>\n"
   ]
  },
  {
   "cell_type": "markdown",
   "metadata": {},
   "source": [
    "# **Finding Missing Values**\n"
   ]
  },
  {
   "cell_type": "markdown",
   "metadata": {},
   "source": [
    "Estimated time needed: **45** minutes\n"
   ]
  },
  {
   "cell_type": "markdown",
   "metadata": {},
   "source": [
    "Data wrangling is the process of cleaning, transforming, and organizing data to make it suitable for analysis. Finding missing values is a crucial step in data wrangling to ensure data accuracy and completeness. In this lab, you will find missing values in the dataset.\n"
   ]
  },
  {
   "cell_type": "markdown",
   "metadata": {},
   "source": [
    "## Objectives\n"
   ]
  },
  {
   "cell_type": "markdown",
   "metadata": {},
   "source": [
    "After completing this lab, you will be able to:\n"
   ]
  },
  {
   "cell_type": "markdown",
   "metadata": {},
   "source": [
    "-   Identify duplicate values in the dataset.\n",
    "\n",
    "-   Remove duplicate values from the dataset.\n",
    "\n",
    "-   Identify missing values in the dataset.\n",
    "\n",
    "-   Impute the missing values in the dataset.\n",
    "\n",
    "-   Normalize data in the dataset.\n"
   ]
  },
  {
   "cell_type": "markdown",
   "metadata": {},
   "source": [
    "## Hands on Lab\n"
   ]
  },
  {
   "cell_type": "markdown",
   "metadata": {},
   "source": [
    "Install the needed library\n"
   ]
  },
  {
   "cell_type": "code",
   "execution_count": 2,
   "metadata": {},
   "outputs": [
    {
     "name": "stdout",
     "output_type": "stream",
     "text": [
      "Requirement already satisfied: pandas in /opt/conda/lib/python3.11/site-packages (2.1.4)\n",
      "Requirement already satisfied: numpy<2,>=1.23.2 in /opt/conda/lib/python3.11/site-packages (from pandas) (1.24.3)\n",
      "Requirement already satisfied: python-dateutil>=2.8.2 in /opt/conda/lib/python3.11/site-packages (from pandas) (2.9.0)\n",
      "Requirement already satisfied: pytz>=2020.1 in /opt/conda/lib/python3.11/site-packages (from pandas) (2024.1)\n",
      "Requirement already satisfied: tzdata>=2022.1 in /opt/conda/lib/python3.11/site-packages (from pandas) (2024.2)\n",
      "Requirement already satisfied: six>=1.5 in /opt/conda/lib/python3.11/site-packages (from python-dateutil>=2.8.2->pandas) (1.16.0)\n"
     ]
    }
   ],
   "source": [
    "!pip install pandas"
   ]
  },
  {
   "cell_type": "code",
   "execution_count": 3,
   "metadata": {},
   "outputs": [
    {
     "name": "stdout",
     "output_type": "stream",
     "text": [
      "Requirement already satisfied: matplotlib in /home/jupyterlab/.local/lib/python3.11/site-packages (3.9.2)\n",
      "Requirement already satisfied: contourpy>=1.0.1 in /home/jupyterlab/.local/lib/python3.11/site-packages (from matplotlib) (1.3.0)\n",
      "Requirement already satisfied: cycler>=0.10 in /home/jupyterlab/.local/lib/python3.11/site-packages (from matplotlib) (0.12.1)\n",
      "Requirement already satisfied: fonttools>=4.22.0 in /home/jupyterlab/.local/lib/python3.11/site-packages (from matplotlib) (4.54.1)\n",
      "Requirement already satisfied: kiwisolver>=1.3.1 in /home/jupyterlab/.local/lib/python3.11/site-packages (from matplotlib) (1.4.7)\n",
      "Requirement already satisfied: numpy>=1.23 in /opt/conda/lib/python3.11/site-packages (from matplotlib) (1.24.3)\n",
      "Requirement already satisfied: packaging>=20.0 in /opt/conda/lib/python3.11/site-packages (from matplotlib) (24.0)\n",
      "Requirement already satisfied: pillow>=8 in /home/jupyterlab/.local/lib/python3.11/site-packages (from matplotlib) (11.0.0)\n",
      "Requirement already satisfied: pyparsing>=2.3.1 in /home/jupyterlab/.local/lib/python3.11/site-packages (from matplotlib) (3.2.0)\n",
      "Requirement already satisfied: python-dateutil>=2.7 in /opt/conda/lib/python3.11/site-packages (from matplotlib) (2.9.0)\n",
      "Requirement already satisfied: six>=1.5 in /opt/conda/lib/python3.11/site-packages (from python-dateutil>=2.7->matplotlib) (1.16.0)\n"
     ]
    }
   ],
   "source": [
    "!pip install matplotlib"
   ]
  },
  {
   "cell_type": "markdown",
   "metadata": {},
   "source": [
    "Import pandas module.\n"
   ]
  },
  {
   "cell_type": "code",
   "execution_count": 2,
   "metadata": {},
   "outputs": [],
   "source": [
    "import pandas as pd"
   ]
  },
  {
   "cell_type": "code",
   "execution_count": 3,
   "metadata": {},
   "outputs": [],
   "source": [
    "import matplotlib as plt"
   ]
  },
  {
   "cell_type": "markdown",
   "metadata": {},
   "source": [
    "Load the dataset into a dataframe.\n"
   ]
  },
  {
   "cell_type": "markdown",
   "metadata": {},
   "source": [
    "<h2>Read Data</h2>\n",
    "<p>\n",
    "We utilize the <code>pandas.read_csv()</code> function for reading CSV files. However, in this version of the lab, which operates on JupyterLite, the dataset needs to be downloaded to the interface using the provided code below.\n",
    "</p>\n"
   ]
  },
  {
   "cell_type": "markdown",
   "metadata": {},
   "source": [
    "First, let's load the dataset using the provided URL. If the dataset is not accessible, download it locally and load it using the corresponding file path.\n",
    "\n"
   ]
  },
  {
   "cell_type": "code",
   "execution_count": 4,
   "metadata": {},
   "outputs": [
    {
     "name": "stdout",
     "output_type": "stream",
     "text": [
      "   ResponseId                      MainBranch                 Age  \\\n",
      "0           1  I am a developer by profession  Under 18 years old   \n",
      "1           2  I am a developer by profession     35-44 years old   \n",
      "2           3  I am a developer by profession     45-54 years old   \n",
      "3           4           I am learning to code     18-24 years old   \n",
      "4           5  I am a developer by profession     18-24 years old   \n",
      "\n",
      "            Employment RemoteWork   Check  \\\n",
      "0  Employed, full-time     Remote  Apples   \n",
      "1  Employed, full-time     Remote  Apples   \n",
      "2  Employed, full-time     Remote  Apples   \n",
      "3   Student, full-time        NaN  Apples   \n",
      "4   Student, full-time        NaN  Apples   \n",
      "\n",
      "                                    CodingActivities  \\\n",
      "0                                              Hobby   \n",
      "1  Hobby;Contribute to open-source projects;Other...   \n",
      "2  Hobby;Contribute to open-source projects;Other...   \n",
      "3                                                NaN   \n",
      "4                                                NaN   \n",
      "\n",
      "                                             EdLevel  \\\n",
      "0                          Primary/elementary school   \n",
      "1       Bachelor’s degree (B.A., B.S., B.Eng., etc.)   \n",
      "2    Master’s degree (M.A., M.S., M.Eng., MBA, etc.)   \n",
      "3  Some college/university study without earning ...   \n",
      "4  Secondary school (e.g. American high school, G...   \n",
      "\n",
      "                                           LearnCode  \\\n",
      "0                             Books / Physical media   \n",
      "1  Books / Physical media;Colleague;On the job tr...   \n",
      "2  Books / Physical media;Colleague;On the job tr...   \n",
      "3  Other online resources (e.g., videos, blogs, f...   \n",
      "4  Other online resources (e.g., videos, blogs, f...   \n",
      "\n",
      "                                     LearnCodeOnline  ... JobSatPoints_6  \\\n",
      "0                                                NaN  ...            NaN   \n",
      "1  Technical documentation;Blogs;Books;Written Tu...  ...            0.0   \n",
      "2  Technical documentation;Blogs;Books;Written Tu...  ...            NaN   \n",
      "3  Stack Overflow;How-to videos;Interactive tutorial  ...            NaN   \n",
      "4  Technical documentation;Blogs;Written Tutorial...  ...            NaN   \n",
      "\n",
      "  JobSatPoints_7 JobSatPoints_8 JobSatPoints_9 JobSatPoints_10  \\\n",
      "0            NaN            NaN            NaN             NaN   \n",
      "1            0.0            0.0            0.0             0.0   \n",
      "2            NaN            NaN            NaN             NaN   \n",
      "3            NaN            NaN            NaN             NaN   \n",
      "4            NaN            NaN            NaN             NaN   \n",
      "\n",
      "  JobSatPoints_11           SurveyLength SurveyEase ConvertedCompYearly JobSat  \n",
      "0             NaN                    NaN        NaN                 NaN    NaN  \n",
      "1             0.0                    NaN        NaN                 NaN    NaN  \n",
      "2             NaN  Appropriate in length       Easy                 NaN    NaN  \n",
      "3             NaN               Too long       Easy                 NaN    NaN  \n",
      "4             NaN              Too short       Easy                 NaN    NaN  \n",
      "\n",
      "[5 rows x 114 columns]\n"
     ]
    }
   ],
   "source": [
    "# Define the URL of the dataset\n",
    "file_path = \"https://cf-courses-data.s3.us.cloud-object-storage.appdomain.cloud/n01PQ9pSmiRX6520flujwQ/survey-data.csv\"\n",
    "\n",
    "# Load the dataset into a DataFrame\n",
    "df = pd.read_csv(file_path)\n",
    "\n",
    "# Display the first few rows to ensure it loaded correctly\n",
    "print(df.head())\n"
   ]
  },
  {
   "cell_type": "markdown",
   "metadata": {},
   "source": [
    "### 2. Data Overview\n",
    "##### Task 1: Display basic information and summary statistics of the dataset.\n"
   ]
  },
  {
   "cell_type": "code",
   "execution_count": 8,
   "metadata": {},
   "outputs": [
    {
     "name": "stdout",
     "output_type": "stream",
     "text": [
      "(65437, 114)\n"
     ]
    },
    {
     "data": {
      "text/html": [
       "<div>\n",
       "<style scoped>\n",
       "    .dataframe tbody tr th:only-of-type {\n",
       "        vertical-align: middle;\n",
       "    }\n",
       "\n",
       "    .dataframe tbody tr th {\n",
       "        vertical-align: top;\n",
       "    }\n",
       "\n",
       "    .dataframe thead th {\n",
       "        text-align: right;\n",
       "    }\n",
       "</style>\n",
       "<table border=\"1\" class=\"dataframe\">\n",
       "  <thead>\n",
       "    <tr style=\"text-align: right;\">\n",
       "      <th></th>\n",
       "      <th>ResponseId</th>\n",
       "      <th>CompTotal</th>\n",
       "      <th>WorkExp</th>\n",
       "      <th>JobSatPoints_1</th>\n",
       "      <th>JobSatPoints_4</th>\n",
       "      <th>JobSatPoints_5</th>\n",
       "      <th>JobSatPoints_6</th>\n",
       "      <th>JobSatPoints_7</th>\n",
       "      <th>JobSatPoints_8</th>\n",
       "      <th>JobSatPoints_9</th>\n",
       "      <th>JobSatPoints_10</th>\n",
       "      <th>JobSatPoints_11</th>\n",
       "      <th>ConvertedCompYearly</th>\n",
       "      <th>JobSat</th>\n",
       "    </tr>\n",
       "  </thead>\n",
       "  <tbody>\n",
       "    <tr>\n",
       "      <th>count</th>\n",
       "      <td>65437.000000</td>\n",
       "      <td>3.374000e+04</td>\n",
       "      <td>29658.000000</td>\n",
       "      <td>29324.000000</td>\n",
       "      <td>29393.000000</td>\n",
       "      <td>29411.000000</td>\n",
       "      <td>29450.000000</td>\n",
       "      <td>29448.00000</td>\n",
       "      <td>29456.000000</td>\n",
       "      <td>29456.000000</td>\n",
       "      <td>29450.000000</td>\n",
       "      <td>29445.000000</td>\n",
       "      <td>2.343500e+04</td>\n",
       "      <td>29126.000000</td>\n",
       "    </tr>\n",
       "    <tr>\n",
       "      <th>mean</th>\n",
       "      <td>32719.000000</td>\n",
       "      <td>2.963841e+145</td>\n",
       "      <td>11.466957</td>\n",
       "      <td>18.581094</td>\n",
       "      <td>7.522140</td>\n",
       "      <td>10.060857</td>\n",
       "      <td>24.343232</td>\n",
       "      <td>22.96522</td>\n",
       "      <td>20.278165</td>\n",
       "      <td>16.169432</td>\n",
       "      <td>10.955713</td>\n",
       "      <td>9.953948</td>\n",
       "      <td>8.615529e+04</td>\n",
       "      <td>6.935041</td>\n",
       "    </tr>\n",
       "    <tr>\n",
       "      <th>std</th>\n",
       "      <td>18890.179119</td>\n",
       "      <td>5.444117e+147</td>\n",
       "      <td>9.168709</td>\n",
       "      <td>25.966221</td>\n",
       "      <td>18.422661</td>\n",
       "      <td>21.833836</td>\n",
       "      <td>27.089360</td>\n",
       "      <td>27.01774</td>\n",
       "      <td>26.108110</td>\n",
       "      <td>24.845032</td>\n",
       "      <td>22.906263</td>\n",
       "      <td>21.775652</td>\n",
       "      <td>1.867570e+05</td>\n",
       "      <td>2.088259</td>\n",
       "    </tr>\n",
       "    <tr>\n",
       "      <th>min</th>\n",
       "      <td>1.000000</td>\n",
       "      <td>0.000000e+00</td>\n",
       "      <td>0.000000</td>\n",
       "      <td>0.000000</td>\n",
       "      <td>0.000000</td>\n",
       "      <td>0.000000</td>\n",
       "      <td>0.000000</td>\n",
       "      <td>0.00000</td>\n",
       "      <td>0.000000</td>\n",
       "      <td>0.000000</td>\n",
       "      <td>0.000000</td>\n",
       "      <td>0.000000</td>\n",
       "      <td>1.000000e+00</td>\n",
       "      <td>0.000000</td>\n",
       "    </tr>\n",
       "    <tr>\n",
       "      <th>25%</th>\n",
       "      <td>16360.000000</td>\n",
       "      <td>6.000000e+04</td>\n",
       "      <td>4.000000</td>\n",
       "      <td>0.000000</td>\n",
       "      <td>0.000000</td>\n",
       "      <td>0.000000</td>\n",
       "      <td>0.000000</td>\n",
       "      <td>0.00000</td>\n",
       "      <td>0.000000</td>\n",
       "      <td>0.000000</td>\n",
       "      <td>0.000000</td>\n",
       "      <td>0.000000</td>\n",
       "      <td>3.271200e+04</td>\n",
       "      <td>6.000000</td>\n",
       "    </tr>\n",
       "    <tr>\n",
       "      <th>50%</th>\n",
       "      <td>32719.000000</td>\n",
       "      <td>1.100000e+05</td>\n",
       "      <td>9.000000</td>\n",
       "      <td>10.000000</td>\n",
       "      <td>0.000000</td>\n",
       "      <td>0.000000</td>\n",
       "      <td>20.000000</td>\n",
       "      <td>15.00000</td>\n",
       "      <td>10.000000</td>\n",
       "      <td>5.000000</td>\n",
       "      <td>0.000000</td>\n",
       "      <td>0.000000</td>\n",
       "      <td>6.500000e+04</td>\n",
       "      <td>7.000000</td>\n",
       "    </tr>\n",
       "    <tr>\n",
       "      <th>75%</th>\n",
       "      <td>49078.000000</td>\n",
       "      <td>2.500000e+05</td>\n",
       "      <td>16.000000</td>\n",
       "      <td>22.000000</td>\n",
       "      <td>5.000000</td>\n",
       "      <td>10.000000</td>\n",
       "      <td>30.000000</td>\n",
       "      <td>30.00000</td>\n",
       "      <td>25.000000</td>\n",
       "      <td>20.000000</td>\n",
       "      <td>10.000000</td>\n",
       "      <td>10.000000</td>\n",
       "      <td>1.079715e+05</td>\n",
       "      <td>8.000000</td>\n",
       "    </tr>\n",
       "    <tr>\n",
       "      <th>max</th>\n",
       "      <td>65437.000000</td>\n",
       "      <td>1.000000e+150</td>\n",
       "      <td>50.000000</td>\n",
       "      <td>100.000000</td>\n",
       "      <td>100.000000</td>\n",
       "      <td>100.000000</td>\n",
       "      <td>100.000000</td>\n",
       "      <td>100.00000</td>\n",
       "      <td>100.000000</td>\n",
       "      <td>100.000000</td>\n",
       "      <td>100.000000</td>\n",
       "      <td>100.000000</td>\n",
       "      <td>1.625660e+07</td>\n",
       "      <td>10.000000</td>\n",
       "    </tr>\n",
       "  </tbody>\n",
       "</table>\n",
       "</div>"
      ],
      "text/plain": [
       "         ResponseId      CompTotal       WorkExp  JobSatPoints_1  \\\n",
       "count  65437.000000   3.374000e+04  29658.000000    29324.000000   \n",
       "mean   32719.000000  2.963841e+145     11.466957       18.581094   \n",
       "std    18890.179119  5.444117e+147      9.168709       25.966221   \n",
       "min        1.000000   0.000000e+00      0.000000        0.000000   \n",
       "25%    16360.000000   6.000000e+04      4.000000        0.000000   \n",
       "50%    32719.000000   1.100000e+05      9.000000       10.000000   \n",
       "75%    49078.000000   2.500000e+05     16.000000       22.000000   \n",
       "max    65437.000000  1.000000e+150     50.000000      100.000000   \n",
       "\n",
       "       JobSatPoints_4  JobSatPoints_5  JobSatPoints_6  JobSatPoints_7  \\\n",
       "count    29393.000000    29411.000000    29450.000000     29448.00000   \n",
       "mean         7.522140       10.060857       24.343232        22.96522   \n",
       "std         18.422661       21.833836       27.089360        27.01774   \n",
       "min          0.000000        0.000000        0.000000         0.00000   \n",
       "25%          0.000000        0.000000        0.000000         0.00000   \n",
       "50%          0.000000        0.000000       20.000000        15.00000   \n",
       "75%          5.000000       10.000000       30.000000        30.00000   \n",
       "max        100.000000      100.000000      100.000000       100.00000   \n",
       "\n",
       "       JobSatPoints_8  JobSatPoints_9  JobSatPoints_10  JobSatPoints_11  \\\n",
       "count    29456.000000    29456.000000     29450.000000     29445.000000   \n",
       "mean        20.278165       16.169432        10.955713         9.953948   \n",
       "std         26.108110       24.845032        22.906263        21.775652   \n",
       "min          0.000000        0.000000         0.000000         0.000000   \n",
       "25%          0.000000        0.000000         0.000000         0.000000   \n",
       "50%         10.000000        5.000000         0.000000         0.000000   \n",
       "75%         25.000000       20.000000        10.000000        10.000000   \n",
       "max        100.000000      100.000000       100.000000       100.000000   \n",
       "\n",
       "       ConvertedCompYearly        JobSat  \n",
       "count         2.343500e+04  29126.000000  \n",
       "mean          8.615529e+04      6.935041  \n",
       "std           1.867570e+05      2.088259  \n",
       "min           1.000000e+00      0.000000  \n",
       "25%           3.271200e+04      6.000000  \n",
       "50%           6.500000e+04      7.000000  \n",
       "75%           1.079715e+05      8.000000  \n",
       "max           1.625660e+07     10.000000  "
      ]
     },
     "execution_count": 8,
     "metadata": {},
     "output_type": "execute_result"
    }
   ],
   "source": [
    "## Write your code here\n",
    "print(df.shape)\n",
    "df.describe()"
   ]
  },
  {
   "cell_type": "markdown",
   "metadata": {},
   "source": [
    "### 3. Identifying and Handling Duplicates\n",
    "##### Task 2: Find how many duplicate rows exist in the dataframe.\n"
   ]
  },
  {
   "cell_type": "code",
   "execution_count": 6,
   "metadata": {},
   "outputs": [
    {
     "name": "stdout",
     "output_type": "stream",
     "text": [
      "Number of duplicate rows: 0\n"
     ]
    }
   ],
   "source": [
    "## Write your code here\n",
    "# Count the number of duplicate rows in the DataFrame\n",
    "num_duplicates = df.duplicated().sum()\n",
    "print(\"Number of duplicate rows:\", num_duplicates)"
   ]
  },
  {
   "cell_type": "markdown",
   "metadata": {},
   "source": [
    "##### Task 3: Remove the duplicate rows from the dataframe.\n",
    "\n"
   ]
  },
  {
   "cell_type": "code",
   "execution_count": 7,
   "metadata": {},
   "outputs": [
    {
     "name": "stdout",
     "output_type": "stream",
     "text": [
      "(65437, 114)\n"
     ]
    }
   ],
   "source": [
    "## Write your code here\n",
    "# Remove duplicate rows from the DataFrame\n",
    "df = df.drop_duplicates()\n",
    "\n",
    "# Display the updated DataFrame to confirm duplicates are removed\n",
    "print(df.shape)"
   ]
  },
  {
   "cell_type": "markdown",
   "metadata": {},
   "source": [
    "### 4. Finding Missing Values\n",
    "##### Task 4: Find the missing values for all columns.\n"
   ]
  },
  {
   "cell_type": "code",
   "execution_count": 9,
   "metadata": {},
   "outputs": [
    {
     "name": "stdout",
     "output_type": "stream",
     "text": [
      "Missing values for each column:\n",
      " ResponseId                 0\n",
      "MainBranch                 0\n",
      "Age                        0\n",
      "Employment                 0\n",
      "RemoteWork             10631\n",
      "                       ...  \n",
      "JobSatPoints_11        35992\n",
      "SurveyLength            9255\n",
      "SurveyEase              9199\n",
      "ConvertedCompYearly    42002\n",
      "JobSat                 36311\n",
      "Length: 114, dtype: int64\n"
     ]
    }
   ],
   "source": [
    "## Write your code here\n",
    "# Count missing values for each column\n",
    "missing_values = df.isnull().sum()\n",
    "\n",
    "# Display missing values per column\n",
    "print(\"Missing values for each column:\\n\", missing_values)"
   ]
  },
  {
   "cell_type": "markdown",
   "metadata": {},
   "source": [
    "##### Task 5: Find out how many rows are missing in a specific column (For example, Employment or DevType).\n",
    "\n"
   ]
  },
  {
   "cell_type": "code",
   "execution_count": 10,
   "metadata": {},
   "outputs": [
    {
     "name": "stdout",
     "output_type": "stream",
     "text": [
      "Number of missing values in 'Employment': 0\n",
      "Number of missing values in 'DevType': 5992\n"
     ]
    }
   ],
   "source": [
    "## Write your code here\n",
    "# Count missing values in the 'Employment' column\n",
    "missing_employment = df['Employment'].isnull().sum()\n",
    "print(\"Number of missing values in 'Employment':\", missing_employment)\n",
    "\n",
    "# Count missing values in the 'DevType' column\n",
    "missing_devtype = df['DevType'].isnull().sum()\n",
    "print(\"Number of missing values in 'DevType':\", missing_devtype)\n"
   ]
  },
  {
   "cell_type": "markdown",
   "metadata": {},
   "source": [
    "### 5. Imputing Missing Values\n",
    "##### Task 6: Find the value counts for the column `Employment` or another categorical column.\n"
   ]
  },
  {
   "cell_type": "code",
   "execution_count": 11,
   "metadata": {},
   "outputs": [
    {
     "name": "stdout",
     "output_type": "stream",
     "text": [
      "\n",
      "Value counts for 'Employment':\n",
      "<bound method IndexOpsMixin.value_counts of 0        Employed, full-time\n",
      "1        Employed, full-time\n",
      "2        Employed, full-time\n",
      "3         Student, full-time\n",
      "4         Student, full-time\n",
      "                ...         \n",
      "65432    Employed, full-time\n",
      "65433    Employed, full-time\n",
      "65434    Employed, full-time\n",
      "65435    Employed, full-time\n",
      "65436     Student, full-time\n",
      "Name: Employment, Length: 65437, dtype: object>\n",
      "Value counts for 'Employment':\n",
      " Employment\n",
      "Employed, full-time                                                                                                                                  39041\n",
      "Independent contractor, freelancer, or self-employed                                                                                                  4846\n",
      "Student, full-time                                                                                                                                    4709\n",
      "Employed, full-time;Independent contractor, freelancer, or self-employed                                                                              3557\n",
      "Not employed, but looking for work                                                                                                                    2341\n",
      "                                                                                                                                                     ...  \n",
      "Employed, full-time;Student, full-time;Independent contractor, freelancer, or self-employed;Student, part-time;Employed, part-time;Retired               1\n",
      "Employed, full-time;Independent contractor, freelancer, or self-employed;Student, part-time;Retired                                                      1\n",
      "Employed, full-time;Independent contractor, freelancer, or self-employed;Employed, part-time;Retired                                                     1\n",
      "Student, full-time;Not employed, but looking for work;Independent contractor, freelancer, or self-employed;Not employed, and not looking for work        1\n",
      "Not employed, but looking for work;Independent contractor, freelancer, or self-employed;Student, part-time;Retired                                       1\n",
      "Name: count, Length: 110, dtype: int64\n"
     ]
    }
   ],
   "source": [
    "print(\"\\nValue counts for 'Employment':\")\n",
    "print(df['Employment'].value_counts)## Write your code here\n",
    "      \n",
    "employment_counts = df['Employment'].value_counts()\n",
    "print(\"Value counts for 'Employment':\\n\", employment_counts)"
   ]
  },
  {
   "cell_type": "markdown",
   "metadata": {},
   "source": [
    "##### Task 7: Identify the most frequent (majority) value in the `Employment` column.\n",
    "\n",
    "\n"
   ]
  },
  {
   "cell_type": "code",
   "execution_count": 12,
   "metadata": {},
   "outputs": [
    {
     "name": "stdout",
     "output_type": "stream",
     "text": [
      "Most frequent value in 'Employment': Employed, full-time\n"
     ]
    }
   ],
   "source": [
    "## Write your code here\n",
    "# Find the most frequent value in the 'Employment' column\n",
    "most_frequent_employment = df['Employment'].mode()[0]\n",
    "print(\"Most frequent value in 'Employment':\", most_frequent_employment)"
   ]
  },
  {
   "cell_type": "markdown",
   "metadata": {},
   "source": [
    "##### Task 8: Impute (replace) all the empty rows in the column `Employment` with the majority value.\n",
    "\n"
   ]
  },
  {
   "cell_type": "code",
   "execution_count": 13,
   "metadata": {},
   "outputs": [
    {
     "name": "stdout",
     "output_type": "stream",
     "text": [
      "Missing values in 'Employment' after imputation: 0\n"
     ]
    }
   ],
   "source": [
    "## Write your code here\n",
    "\n",
    "# Find the most frequent (majority) value in the 'Employment' column\n",
    "most_frequent_employment = df['Employment'].mode()[0]\n",
    "\n",
    "# Replace missing values in the 'Employment' column with the majority value\n",
    "df['Employment'].fillna(most_frequent_employment, inplace=True)\n",
    "\n",
    "# Verify that missing values are filled\n",
    "print(\"Missing values in 'Employment' after imputation:\", df['Employment'].isnull().sum())"
   ]
  },
  {
   "cell_type": "markdown",
   "metadata": {},
   "source": [
    "### 6. Feature Engineering\n",
    "##### Task 9: Create a new column based on existing data.\n"
   ]
  },
  {
   "cell_type": "markdown",
   "metadata": {},
   "source": [
    "For instance, if we have a column `YearsCode` that represents experience, we can create a new feature `ExperienceLevel`.\n"
   ]
  },
  {
   "cell_type": "code",
   "execution_count": 19,
   "metadata": {},
   "outputs": [
    {
     "name": "stdout",
     "output_type": "stream",
     "text": [
      "'YearsCode' column is present in the DataFrame.\n",
      "0                     NaN\n",
      "1                      20\n",
      "2                      37\n",
      "3                       4\n",
      "4                       9\n",
      "5                      10\n",
      "6                       7\n",
      "7                       1\n",
      "8                      20\n",
      "9                      15\n",
      "10                     20\n",
      "11                     30\n",
      "12                     20\n",
      "13                     20\n",
      "14                     15\n",
      "15                     31\n",
      "16                      7\n",
      "17                      6\n",
      "18                     12\n",
      "19                     22\n",
      "20                      5\n",
      "21                     36\n",
      "22                     25\n",
      "23                     44\n",
      "24                     20\n",
      "25                     24\n",
      "26                     20\n",
      "27                      7\n",
      "28                     18\n",
      "29                      9\n",
      "30                      3\n",
      "31                     10\n",
      "32                     12\n",
      "33                     18\n",
      "34                      5\n",
      "35                     10\n",
      "36                      9\n",
      "37                     10\n",
      "38                      8\n",
      "39                      1\n",
      "40                      9\n",
      "41                     15\n",
      "42                     22\n",
      "43                     22\n",
      "44                     10\n",
      "45                      6\n",
      "46                     20\n",
      "47                     25\n",
      "48     More than 50 years\n",
      "49                     11\n",
      "50                      6\n",
      "51                      8\n",
      "52                      7\n",
      "53                      8\n",
      "54                     18\n",
      "55                     29\n",
      "56                      4\n",
      "57                      6\n",
      "58                      4\n",
      "59                     11\n",
      "60                      5\n",
      "61                     40\n",
      "62                      5\n",
      "63                      5\n",
      "64                     39\n",
      "65                      6\n",
      "66                      6\n",
      "67                    NaN\n",
      "68                     15\n",
      "69                     15\n",
      "70                      2\n",
      "71                     30\n",
      "72                      3\n",
      "73                     24\n",
      "74                     40\n",
      "75                      4\n",
      "76                     31\n",
      "77                     10\n",
      "78                     30\n",
      "79                     42\n",
      "80                     20\n",
      "81                     12\n",
      "82                     34\n",
      "83                     15\n",
      "84                     19\n",
      "85                      4\n",
      "86                     40\n",
      "87                     12\n",
      "88                     20\n",
      "89                      2\n",
      "90                      2\n",
      "91                      7\n",
      "92                     40\n",
      "93                     10\n",
      "94                      4\n",
      "95                      6\n",
      "96                     11\n",
      "97                     37\n",
      "98                      4\n",
      "99                      2\n",
      "100                    15\n",
      "101                    10\n",
      "102                    11\n",
      "103                    30\n",
      "104                    30\n",
      "105                     7\n",
      "106                     7\n",
      "107                     8\n",
      "108                    29\n",
      "109                    10\n",
      "110                    11\n",
      "111                     8\n",
      "112                    15\n",
      "113                    35\n",
      "114                     5\n",
      "115                    16\n",
      "116                    33\n",
      "117                     9\n",
      "118                    10\n",
      "119                    25\n",
      "120                     9\n",
      "121                    34\n",
      "122                     5\n",
      "123                    12\n",
      "124                    15\n",
      "125                    13\n",
      "126                    11\n",
      "127                    18\n",
      "128                    30\n",
      "129                    30\n",
      "130                    22\n",
      "131                    13\n",
      "132                     5\n",
      "133                    10\n",
      "134    More than 50 years\n",
      "135                    10\n",
      "136                     3\n",
      "137                    11\n",
      "138                     6\n",
      "139                     8\n",
      "140                     8\n",
      "141                    10\n",
      "142                     8\n",
      "143                     5\n",
      "144                     9\n",
      "145                     5\n",
      "146                    23\n",
      "147                    25\n",
      "148                     8\n",
      "149                    14\n",
      "150                    11\n",
      "151                    22\n",
      "152                     5\n",
      "153                    12\n",
      "154                    15\n",
      "155                    12\n",
      "156                    40\n",
      "157                     5\n",
      "158                    12\n",
      "159                    14\n",
      "160                     6\n",
      "161                    10\n",
      "162                    18\n",
      "163                    30\n",
      "164                     9\n",
      "165                    18\n",
      "166                    10\n",
      "167                     3\n",
      "168                    14\n",
      "169                    28\n",
      "170                     3\n",
      "171                    25\n",
      "172                     6\n",
      "173                     5\n",
      "174                    10\n",
      "175                     8\n",
      "176                    24\n",
      "177                     9\n",
      "178                    33\n",
      "179                    10\n",
      "180                    10\n",
      "181                     5\n",
      "182                    14\n",
      "183                     7\n",
      "184                    30\n",
      "185                    22\n",
      "186                     4\n",
      "187                     9\n",
      "188                     8\n",
      "189                    19\n",
      "190                    31\n",
      "191                    20\n",
      "192                    11\n",
      "193                    25\n",
      "194                    10\n",
      "195                    17\n",
      "196                    30\n",
      "197                    16\n",
      "198                    21\n",
      "199                    25\n",
      "Name: YearsCode, dtype: object\n",
      "65237                 NaN\n",
      "65238                 NaN\n",
      "65239                  21\n",
      "65240                   3\n",
      "65241                  13\n",
      "65242                  29\n",
      "65243                 NaN\n",
      "65244                 NaN\n",
      "65245                 NaN\n",
      "65246                 NaN\n",
      "65247                  26\n",
      "65248                   2\n",
      "65249                  23\n",
      "65250                 NaN\n",
      "65251                 NaN\n",
      "65252                  20\n",
      "65253                  30\n",
      "65254                  15\n",
      "65255                   6\n",
      "65256                  30\n",
      "65257                 NaN\n",
      "65258                 NaN\n",
      "65259                   8\n",
      "65260                   8\n",
      "65261                   4\n",
      "65262                 NaN\n",
      "65263                  38\n",
      "65264                 NaN\n",
      "65265                   3\n",
      "65266                 NaN\n",
      "65267                   6\n",
      "65268                   9\n",
      "65269                  28\n",
      "65270                  41\n",
      "65271                 NaN\n",
      "65272                 NaN\n",
      "65273                 NaN\n",
      "65274                  12\n",
      "65275                 NaN\n",
      "65276                 NaN\n",
      "65277                   6\n",
      "65278                 NaN\n",
      "65279                  10\n",
      "65280                  18\n",
      "65281                 NaN\n",
      "65282                  10\n",
      "65283                   2\n",
      "65284                 NaN\n",
      "65285                 NaN\n",
      "65286                 NaN\n",
      "65287                 NaN\n",
      "65288                   2\n",
      "65289                  40\n",
      "65290                 NaN\n",
      "65291                  17\n",
      "65292                 NaN\n",
      "65293                 NaN\n",
      "65294                 NaN\n",
      "65295                 NaN\n",
      "65296                 NaN\n",
      "65297                 NaN\n",
      "65298                 NaN\n",
      "65299                 NaN\n",
      "65300                   6\n",
      "65301                 NaN\n",
      "65302                 NaN\n",
      "65303                   5\n",
      "65304                 NaN\n",
      "65305                  16\n",
      "65306                  12\n",
      "65307                 NaN\n",
      "65308                 NaN\n",
      "65309                   5\n",
      "65310                 NaN\n",
      "65311                 NaN\n",
      "65312                   6\n",
      "65313                 NaN\n",
      "65314                 NaN\n",
      "65315                 NaN\n",
      "65316                   6\n",
      "65317                 NaN\n",
      "65318                 NaN\n",
      "65319                 NaN\n",
      "65320                 NaN\n",
      "65321                 NaN\n",
      "65322                 NaN\n",
      "65323                  10\n",
      "65324                  10\n",
      "65325                 NaN\n",
      "65326                   5\n",
      "65327                   7\n",
      "65328                 NaN\n",
      "65329                 NaN\n",
      "65330                 NaN\n",
      "65331                 NaN\n",
      "65332                 NaN\n",
      "65333                  14\n",
      "65334                   8\n",
      "65335                  22\n",
      "65336                   2\n",
      "65337                 NaN\n",
      "65338                 NaN\n",
      "65339                   4\n",
      "65340                   8\n",
      "65341                 NaN\n",
      "65342                 NaN\n",
      "65343                 NaN\n",
      "65344                   3\n",
      "65345                  25\n",
      "65346                 NaN\n",
      "65347                 NaN\n",
      "65348                 NaN\n",
      "65349                 NaN\n",
      "65350                 NaN\n",
      "65351                   9\n",
      "65352                 NaN\n",
      "65353                  16\n",
      "65354                 NaN\n",
      "65355                 NaN\n",
      "65356                  17\n",
      "65357                 NaN\n",
      "65358                 NaN\n",
      "65359                 NaN\n",
      "65360                 NaN\n",
      "65361                  13\n",
      "65362                 NaN\n",
      "65363                   5\n",
      "65364                 NaN\n",
      "65365                 NaN\n",
      "65366                   4\n",
      "65367                   5\n",
      "65368                 NaN\n",
      "65369                   5\n",
      "65370                 NaN\n",
      "65371                  12\n",
      "65372                 NaN\n",
      "65373                 NaN\n",
      "65374                 NaN\n",
      "65375                 NaN\n",
      "65376                 NaN\n",
      "65377                 NaN\n",
      "65378                 NaN\n",
      "65379                 NaN\n",
      "65380                 NaN\n",
      "65381                 NaN\n",
      "65382                 NaN\n",
      "65383                   9\n",
      "65384                 NaN\n",
      "65385                  25\n",
      "65386                 NaN\n",
      "65387                 NaN\n",
      "65388                  10\n",
      "65389                 NaN\n",
      "65390                 NaN\n",
      "65391                 NaN\n",
      "65392                 NaN\n",
      "65393                 NaN\n",
      "65394                 NaN\n",
      "65395                 NaN\n",
      "65396                   3\n",
      "65397                  19\n",
      "65398                 NaN\n",
      "65399                  25\n",
      "65400                 NaN\n",
      "65401                  10\n",
      "65402                 NaN\n",
      "65403                 NaN\n",
      "65404                   7\n",
      "65405                 NaN\n",
      "65406                   6\n",
      "65407                 NaN\n",
      "65408                  13\n",
      "65409                   9\n",
      "65410                 NaN\n",
      "65411                 NaN\n",
      "65412                  20\n",
      "65413                   3\n",
      "65414                 NaN\n",
      "65415                   4\n",
      "65416                  19\n",
      "65417                   8\n",
      "65418                 NaN\n",
      "65419                 NaN\n",
      "65420    Less than 1 year\n",
      "65421                 NaN\n",
      "65422                 NaN\n",
      "65423                 NaN\n",
      "65424                 NaN\n",
      "65425                 NaN\n",
      "65426                 NaN\n",
      "65427                 NaN\n",
      "65428                   4\n",
      "65429                 NaN\n",
      "65430                 NaN\n",
      "65431                  38\n",
      "65432                   5\n",
      "65433                 NaN\n",
      "65434                   9\n",
      "65435                   5\n",
      "65436                 NaN\n",
      "Name: YearsCode, dtype: object\n"
     ]
    }
   ],
   "source": [
    "pd.set_option('display.max_rows', 1000)  # Adjust 100 to any number you need\n",
    "\n",
    "# Check if 'YearsCode' column exists in the DataFrame\n",
    "if 'YearsCode' in df.columns:\n",
    "    print(\"'YearsCode' column is present in the DataFrame.\")\n",
    "    # Display the first 20 rows\n",
    "    print(df['YearsCode'].head(200))\n",
    "\n",
    "    # Display the last 20 rows\n",
    "    print(df['YearsCode'].tail(200))\n",
    "else:\n",
    "    print(\"'YearsCode' column is not present in the DataFrame.\")"
   ]
  },
  {
   "cell_type": "code",
   "execution_count": 22,
   "metadata": {},
   "outputs": [
    {
     "name": "stdout",
     "output_type": "stream",
     "text": [
      "   YearsCode ExperienceLevel\n",
      "0        NaN         Unknown\n",
      "1         20          Expert\n",
      "2         37          Expert\n",
      "3          4    Intermediate\n",
      "4          9     Experienced\n",
      "5         10          Expert\n",
      "6          7     Experienced\n",
      "7          1    Intermediate\n",
      "8         20          Expert\n",
      "9         15          Expert\n",
      "10        20          Expert\n",
      "11        30          Expert\n",
      "12        20          Expert\n",
      "13        20          Expert\n",
      "14        15          Expert\n",
      "15        31          Expert\n",
      "16         7     Experienced\n",
      "17         6     Experienced\n",
      "18        12          Expert\n",
      "19        22          Expert\n"
     ]
    }
   ],
   "source": [
    "## Write your code here\n",
    "\n",
    "# Define a function to categorize experience levels based on YearsCode\n",
    "def categorize_experience(years):\n",
    "    if pd.isnull(years):  # Check for missing values\n",
    "        return 'Unknown'\n",
    "    elif years == 'Less than 1 year':\n",
    "        return 'Beginner'\n",
    "    elif years == 'More than 50 years':\n",
    "        return 'Very Experienced'\n",
    "    elif int(years) < 1:\n",
    "        return 'Beginner'\n",
    "    elif int(years) < 5:\n",
    "        return 'Intermediate'\n",
    "    elif int(years) < 10:\n",
    "        return 'Experienced'\n",
    "    else:\n",
    "        return 'Expert'\n",
    "\n",
    "# Apply the function to create the new 'ExperienceLevel' column\n",
    "df['ExperienceLevel'] = df['YearsCode'].apply(categorize_experience)\n",
    "\n",
    "# Display the new column to verify\n",
    "print(df[['YearsCode', 'ExperienceLevel']].head(20))"
   ]
  },
  {
   "cell_type": "markdown",
   "metadata": {},
   "source": [
    "### 7. Analyzing and Visualizing the Data\n",
    "##### Task 10: Visualize the distribution of a particular column.\n"
   ]
  },
  {
   "cell_type": "code",
   "execution_count": 23,
   "metadata": {},
   "outputs": [
    {
     "data": {
      "image/png": "[encoded data removed]",
      "text/plain": [
       "<Figure size 640x480 with 1 Axes>"
      ]
     },
     "metadata": {},
     "output_type": "display_data"
    }
   ],
   "source": [
    "## Write your code here\n",
    "\n",
    "import matplotlib.pyplot as plt\n",
    "\n",
    "# Plot the distribution of 'ExperienceLevel'\n",
    "experience_counts = df['ExperienceLevel'].value_counts()\n",
    "experience_counts.plot(kind='bar')\n",
    "\n",
    "# Customize the plot\n",
    "plt.title(\"Distribution of Experience Level\")\n",
    "plt.xlabel(\"Experience Level\")\n",
    "plt.ylabel(\"Count\")\n",
    "plt.xticks(rotation=45)\n",
    "plt.show()\n"
   ]
  },
  {
   "cell_type": "markdown",
   "metadata": {},
   "source": [
    "### Summary\n"
   ]
  },
  {
   "cell_type": "markdown",
   "metadata": {},
   "source": [
    "- The dataset is loaded into a dataframe using the pandas library.\n",
    "- The pandas.read_csv() function is used to read CSV files into a dataframe.\n",
    "- If the dataset is not accessible through the provided URL, it can be loaded using a local file path instead.\n",
    "  \n"
   ]
  },
  {
   "cell_type": "markdown",
   "metadata": {},
   "source": [
    "<!--\n",
    "## Change Log\n",
    "|Date (YYYY-MM-DD)|Version|Changed By|Change Description|\n",
    "|-|-|-|-|\n",
    "|2024-11-05|1.2|Madhusudhan Moole|Updated lab|\n",
    "|2024-09-28|1.2|Madhusudhan Moole|Updated lab|\n",
    "|2024-09-24|1.1|Madhusudhan Moole|Updated lab|\n",
    "|2024-09-23|1.0|Raghul Ramesh|Created lab|\n",
    "--!>\n"
   ]
  },
  {
   "cell_type": "markdown",
   "metadata": {},
   "source": [
    "## <h3 align=\"center\"> © IBM Corporation. All rights reserved. <h3/>\n"
   ]
  }
 ],
 "metadata": {
  "kernelspec": {
   "display_name": "ibm310",
   "language": "python",
   "name": "python3"
  },
  "language_info": {
   "codemirror_mode": {
    "name": "ipython",
    "version": 3
   },
   "file_extension": ".py",
   "mimetype": "text/x-python",
   "name": "python",
   "nbconvert_exporter": "python",
   "pygments_lexer": "ipython3",
   "version": "3.10.14"
  },
  "prev_pub_hash": "91c8f8f6d18cebe53f36cc9620177d825cadb7004429cae17544f5395c642e34"
 },
 "nbformat": 4,
 "nbformat_minor": 4
}
